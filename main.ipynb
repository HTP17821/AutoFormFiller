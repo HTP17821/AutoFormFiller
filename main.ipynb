{
 "cells": [
  {
   "cell_type": "code",
   "execution_count": 23,
   "metadata": {},
   "outputs": [],
   "source": [
    "import time\n",
    "from time import sleep\n",
    "from datetime import datetime\n",
    "from selenium import webdriver\n",
    "from selenium.webdriver.common.by import By\n",
    "from selenium.webdriver import ActionChains\n",
    "from selenium.webdriver.support.ui import WebDriverWait\n",
    "from selenium.webdriver.support import expected_conditions as EC\n"
   ]
  },
  {
   "cell_type": "code",
   "execution_count": 24,
   "metadata": {},
   "outputs": [
    {
     "name": "stdout",
     "output_type": "stream",
     "text": [
      "- Clicked ... Done\n"
     ]
    }
   ],
   "source": [
    "# Get the current date\n",
    "today_date = datetime.today().strftime('%Y-%m-%d')\n",
    "# Get the current hour\n",
    "current_time = datetime.now().strftime('%H')\n",
    "# Get the current minutes\n",
    "current_minutes = datetime.now().strftime('%M')\n",
    "\n",
    "# Initialize the Chrome browser using Selenium\n",
    "driver = webdriver.Chrome()\n",
    "# Set up a wait time of 30 seconds for elements to load\n",
    "wait = WebDriverWait(driver, 30)\n",
    "\n",
    "# URL of the Google Form login page\n",
    "url = 'https://docs.google.com/forms/d/e/1FAIpQLSe9oxRR3J7RPBZS9zEXExJZTmLnOh-YsyY6KI9p3_MfFU8gig/viewform?usp=sf_link'\n",
    "# Navigate to the specified URL\n",
    "driver.get(url)\n",
    "\n",
    "# Read the username from the 'Login_info.txt' file\n",
    "with open('Login_info.txt') as credential:\n",
    "    username = credential.readline().strip()  # Strip any leading/trailing whitespace\n",
    "\n",
    "# Locate the email input field and wait until it is visible\n",
    "email_field = wait.until(EC.visibility_of_element_located((By.CSS_SELECTOR, \"input[type='email'][aria-label='Email của bạn']\")))\n",
    "# Enter the username (email) into the email input field\n",
    "email_field.send_keys(username)\n",
    "\n",
    "# Locate the \"Next\" button using XPath and click it\n",
    "next_button = driver.find_element(By.XPATH, '//*[@id=\"mG61Hd\"]/div[2]/div/div[3]/div[1]/div[1]/div/span')  \n",
    "next_button.click()  \n",
    "print('- Clicked ... Done')  # Print a message indicating that the button was clicked"
   ]
  },
  {
   "cell_type": "code",
   "execution_count": 25,
   "metadata": {},
   "outputs": [
    {
     "name": "stdout",
     "output_type": "stream",
     "text": [
      "- Q1 ... Done\n",
      "- Q2 ... Done\n",
      "- Q3 ... Done\n"
     ]
    }
   ],
   "source": [
    "def select_answer(question_xpath):\n",
    "    \"\"\"Select an answer for a question based on its XPath.\"\"\"\n",
    "    # Wait until the element is clickable and then click it\n",
    "    wait.until(EC.element_to_be_clickable((By.XPATH, question_xpath))).click()\n",
    "    sleep(1) \n",
    "\n",
    "# XPaths for the questions\n",
    "questions = [\n",
    "    \"/html/body/div/div[2]/form/div[2]/div/div[2]/div[3]/div/div/div[2]/div/div/span/div/div[2]/label/div/div[1]/div\",  # Q1\n",
    "    \"/html/body/div/div[2]/form/div[2]/div/div[2]/div[4]/div/div/div[2]/div/div/span/div/div[4]/label/div/div[1]/div\",  # Q2\n",
    "    \"/html/body/div/div[2]/form/div[2]/div/div[2]/div[5]/div/div/div[2]/div/div/span/div/div[3]/label/div/div[1]/div\",  # Q3\n",
    "]\n",
    "\n",
    "# Select an answer for each question\n",
    "for i, question_xpath in enumerate(questions, start=1):\n",
    "    select_answer(question_xpath)  # Call the function to select an answer based on the current question's XPath\n",
    "    sleep(1) \n",
    "    \n",
    "# Print confirmation messages indicating completion for each question\n",
    "print('- Q1 ... Done')\n",
    "print('- Q2 ... Done')\n",
    "print('- Q3 ... Done')\n"
   ]
  },
  {
   "cell_type": "code",
   "execution_count": 26,
   "metadata": {},
   "outputs": [
    {
     "name": "stdout",
     "output_type": "stream",
     "text": [
      "- Q4 ... Done\n",
      "- Q5 ... Done\n",
      "- Q6 ... Done\n"
     ]
    }
   ],
   "source": [
    "def select_multiple_answers(question_xpaths):\n",
    "    \"\"\"Select multiple answers for a question based on a list of XPaths.\"\"\"\n",
    "    # Iterate over each XPath in the provided list\n",
    "    for xpath in question_xpaths:\n",
    "        # Wait until the element is clickable and then click it\n",
    "        wait.until(EC.element_to_be_clickable((By.XPATH, xpath))).click()\n",
    "        sleep(1)  \n",
    "\n",
    "# XPaths for the questions\n",
    "questions = {\n",
    "    \"Q4\": [\n",
    "        \"/html/body/div/div[2]/form/div[2]/div/div[2]/div[6]/div/div/div[2]/div[1]/div[2]/label/div/div[1]\",  \n",
    "        \"/html/body/div/div[2]/form/div[2]/div/div[2]/div[6]/div/div/div[2]/div[1]/div[5]/label/div/div[1]\"   \n",
    "    ],\n",
    "    \"Q5\": [\n",
    "        \"/html/body/div/div[2]/form/div[2]/div/div[2]/div[7]/div/div/div[2]/div[1]/div[4]/label/div/div[1]\", \n",
    "        \"/html/body/div/div[2]/form/div[2]/div/div[2]/div[7]/div/div/div[2]/div[1]/div[1]/label/div/div[1]\"   \n",
    "    ],\n",
    "    \"Q6\": [\n",
    "        \"/html/body/div/div[2]/form/div[2]/div/div[2]/div[8]/div/div/div[2]/div[1]/div[3]/label/div/div[1]\",  \n",
    "        \"/html/body/div/div[2]/form/div[2]/div/div[2]/div[8]/div/div/div[2]/div[1]/div[2]/label/div/div[1]\"   \n",
    "    ]\n",
    "}\n",
    "\n",
    "# Select answers for each question\n",
    "for question, xpaths in questions.items():\n",
    "    select_multiple_answers(xpaths)  # Call the function to select multiple answers based on the current question's XPaths\n",
    "    sleep(1)  \n",
    "\n",
    "# Print confirmation messages indicating completion for each question\n",
    "print('- Q4 ... Done')\n",
    "print('- Q5 ... Done')\n",
    "print('- Q6 ... Done')\n"
   ]
  },
  {
   "cell_type": "code",
   "execution_count": 27,
   "metadata": {},
   "outputs": [
    {
     "name": "stdout",
     "output_type": "stream",
     "text": [
      "- Q7 ... Done\n",
      "- Q8 ... Done\n",
      "- Q9 ... Done\n",
      "- Clicked ... Done\n"
     ]
    }
   ],
   "source": [
    "def select_dropdown_answer(dropdown_xpath, option_xpath):\n",
    "    \"\"\"Click on the drop-down box and select an answer.\"\"\"\n",
    "    # Wait until the drop-down box is clickable and then click it\n",
    "    wait.until(EC.element_to_be_clickable((By.XPATH, dropdown_xpath))).click()\n",
    "    sleep(1) \n",
    "    # Wait until the desired option is clickable and then click it\n",
    "    wait.until(EC.element_to_be_clickable((By.XPATH, option_xpath))).click()\n",
    "    sleep(1)  \n",
    "\n",
    "# XPaths for the questions\n",
    "dropdown_questions = {\n",
    "    \"Q7\": {\n",
    "        \"dropdown\": \"/html/body/div/div[2]/form/div[2]/div/div[2]/div[9]/div/div/div[2]/div\",  # XPath for the drop-down of Q7\n",
    "        \"option\": \"/html/body/div/div[2]/form/div[2]/div/div[2]/div[9]/div/div/div[2]/div/div[2]/div[3]\"  # XPath for the selected option of Q7\n",
    "    },\n",
    "    \"Q8\": {\n",
    "        \"dropdown\": \"/html/body/div/div[2]/form/div[2]/div/div[2]/div[10]/div/div/div[2]/div\",  # XPath for the drop-down of Q8\n",
    "        \"option\": \"/html/body/div/div[2]/form/div[2]/div/div[2]/div[10]/div/div/div[2]/div/div[2]/div[4]\"  # XPath for the selected option of Q8\n",
    "    },\n",
    "    \"Q9\": {\n",
    "        \"dropdown\": \"/html/body/div/div[2]/form/div[2]/div/div[2]/div[11]/div/div/div[2]/div\",  # XPath for the drop-down of Q9\n",
    "        \"option\": \"/html/body/div/div[2]/form/div[2]/div/div[2]/div[11]/div/div/div[2]/div/div[2]/div[7]\"  # XPath for the selected option of Q9\n",
    "    }\n",
    "}\n",
    "\n",
    "# Select answers for each question\n",
    "for question, xpaths in dropdown_questions.items():\n",
    "    select_dropdown_answer(xpaths['dropdown'], xpaths['option'])  # Call the function to select the answer from the drop-down\n",
    "    sleep(1)  # Wait for a moment after selecting the answer\n",
    "\n",
    "# Print confirmation messages indicating completion for each question\n",
    "print('- Q7 ... Done')\n",
    "print('- Q8 ... Done')\n",
    "print('- Q9 ... Done')\n",
    "\n",
    "# Click on the \"Next\" button to proceed\n",
    "next_button = driver.find_element(By.XPATH, '//*[@id=\"mG61Hd\"]/div[2]/div/div[3]/div[1]/div[1]/div[2]')  \n",
    "next_button.click()  # Click the next button to submit the form\n",
    "print('- Clicked ... Done')\n"
   ]
  },
  {
   "cell_type": "code",
   "execution_count": 28,
   "metadata": {},
   "outputs": [
    {
     "name": "stdout",
     "output_type": "stream",
     "text": [
      "- Load file ... Done\n",
      "- Q11 ... Done\n",
      "- Q12 ... Done\n",
      "- Q13 ... Done\n",
      "- Q14 ... Done\n",
      "- Clicked ... Done\n"
     ]
    }
   ],
   "source": [
    "# Open the answer file and read all lines into a list\n",
    "with open('answer.txt') as answer_file:\n",
    "    answers = answer_file.readlines()\n",
    "\n",
    "# Save answers into variables from the corresponding lines\n",
    "answer_11 = answers[1].strip()  # Answer for question 11\n",
    "answer_12 = answers[3].strip()  # Answer for question 12\n",
    "answer_13 = answers[5].strip()  # Answer for question 13\n",
    "answer_14 = answers[7].strip()  # Answer for question 14\n",
    "\n",
    "print('- Load file ... Done')  # Confirmation message for file loading\n",
    "sleep(2)  \n",
    "\n",
    "# Input answer for question 11\n",
    "input_field_11 = wait.until(EC.element_to_be_clickable((By.XPATH, '/html/body/div/div[2]/form/div[2]/div/div[2]/div[3]/div/div/div[2]/div/div[1]/div/div[1]/input')))\n",
    "input_field_11.send_keys(answer_11)  # Use the answer for question 11\n",
    "print('- Q11 ... Done')  # Confirmation message for question 11\n",
    "sleep(1)  \n",
    "\n",
    "# Input answer for question 12\n",
    "input_field_12 = wait.until(EC.element_to_be_clickable((By.XPATH, '/html/body/div/div[2]/form/div[2]/div/div[2]/div[4]/div/div/div[2]/div/div[1]/div/div[1]/input')))\n",
    "input_field_12.send_keys(answer_12)  # Use the answer for question 12\n",
    "print('- Q12 ... Done')  # Confirmation message for question 12\n",
    "sleep(1)  \n",
    "\n",
    "# Input answer for question 13\n",
    "input_field_13 = wait.until(EC.element_to_be_clickable((By.XPATH, '/html/body/div/div[2]/form/div[2]/div/div[2]/div[5]/div/div/div[2]/div/div[1]/div[2]/textarea')))\n",
    "input_field_13.send_keys(answer_13)  # Use the answer for question 13\n",
    "print('- Q13 ... Done')  # Confirmation message for question 13\n",
    "sleep(1)  \n",
    "\n",
    "# Input answer for question 14\n",
    "input_field_14 = wait.until(EC.element_to_be_clickable((By.XPATH, '/html/body/div/div[2]/form/div[2]/div/div[2]/div[6]/div/div/div[2]/div/div[1]/div[2]/textarea')))\n",
    "input_field_14.send_keys(answer_14)  # Use the answer for question 14\n",
    "print('- Q14 ... Done')  # Confirmation message for question 14\n",
    "sleep(1)  \n",
    "\n",
    "# Click on the \"Next\" button to proceed\n",
    "next_button = driver.find_element(By.XPATH, '//*[@id=\"mG61Hd\"]/div[2]/div/div[3]/div[1]/div[1]/div[2]')  \n",
    "next_button.click()  # Click the next button to submit the form\n",
    "print('- Clicked ... Done')  # Confirmation message for clicking the next button\n"
   ]
  },
  {
   "cell_type": "code",
   "execution_count": 29,
   "metadata": {},
   "outputs": [
    {
     "name": "stdout",
     "output_type": "stream",
     "text": [
      "- Q15 ... Done\n",
      "- Q16 ... Done\n",
      "- Q17 ... Done\n",
      "- Q18 ... Done\n",
      "- Clicked ... Done\n"
     ]
    }
   ],
   "source": [
    "# List of answers (XPATH)\n",
    "answers = [\n",
    "    \"/html/body/div/div[2]/form/div[2]/div/div[2]/div[3]/div/div/div[2]/div[1]/span/div/label[5]/div[2]/div/div\",  # Q15\n",
    "    \"/html/body/div/div[2]/form/div[2]/div/div[2]/div[4]/div/div/div[2]/div[1]/span/div/label[5]/div[2]/div/div\",  # Q16\n",
    "    \"/html/body/div/div[2]/form/div[2]/div/div[2]/div[5]/div/div/div[2]/div[1]/span/div/label[5]/div[2]/div/div\",  # Q17\n",
    "    \"/html/body/div/div[2]/form/div[2]/div/div[2]/div[6]/div/div/div[2]/div[1]/span/div/label[5]/div[2]/div/div\"   # Q18\n",
    "]\n",
    "\n",
    "# Loop through each XPATH to click the corresponding answer\n",
    "for i, answer in enumerate(answers, start=15):  # Start enumeration from 15 for question numbering\n",
    "    wait.until(EC.element_to_be_clickable((By.XPATH, answer))).click()  # Wait until the element is clickable and then click\n",
    "    sleep(1)  # Pause for 1 second between clicks\n",
    "\n",
    "# Confirmation messages for each question\n",
    "print('- Q15 ... Done')\n",
    "print('- Q16 ... Done')\n",
    "print('- Q17 ... Done')\n",
    "print('- Q18 ... Done')\n",
    "sleep(1) \n",
    "\n",
    "# Click on the \"Next\" button to proceed\n",
    "next_button = driver.find_element(By.XPATH, '//*[@id=\"mG61Hd\"]/div[2]/div/div[3]/div[1]/div[1]/div[2]')  \n",
    "next_button.click()  # Click the next button to submit the form\n",
    "print('- Clicked ... Done')  # Confirmation message for clicking the next button\n"
   ]
  },
  {
   "cell_type": "code",
   "execution_count": 30,
   "metadata": {},
   "outputs": [
    {
     "name": "stdout",
     "output_type": "stream",
     "text": [
      "- Date ... Done\n",
      "- Hour ... Done\n",
      "- Minute ... Done\n",
      "- Clicked ... Done\n"
     ]
    }
   ],
   "source": [
    "# Enter the date into the date field\n",
    "date_field = wait.until(EC.element_to_be_clickable((By.XPATH, \"//input[@type='date']\")))  # Use XPath to locate the input field of type \"date\"\n",
    "date_field.click()  # Click the date field to activate it\n",
    "driver.execute_script(f\"arguments[0].setAttribute('value', '{today_date}')\", date_field)  # Set the value of the date field using JavaScript\n",
    "print('- Date ... Done')  # Confirmation message for date input\n",
    "\n",
    "# Enter the hour into the hour field\n",
    "hour_field = wait.until(EC.element_to_be_clickable((By.XPATH, '//*[@id=\"mG61Hd\"]/div[2]/div/div[2]/div[4]/div/div/div[2]/div/div[1]/div[2]/div[1]/div/div[1]/input')))  # Use XPath to locate the hour input field\n",
    "hour_field.click()  # Click the hour field to activate it\n",
    "driver.execute_script(f\"arguments[0].setAttribute('value', '{current_time}')\", hour_field)  # Set the value of the hour field using JavaScript\n",
    "print('- Hour ... Done')  # Confirmation message for hour input\n",
    "\n",
    "# Enter the minutes into the minute field\n",
    "minute_field = wait.until(EC.element_to_be_clickable((By.XPATH, '//*[@id=\"mG61Hd\"]/div[2]/div/div[2]/div[4]/div/div/div[2]/div/div[3]/div/div[1]/div/div[1]/input')))  # Use XPath to locate the minute input field\n",
    "minute_field.click()  # Click the minute field to activate it\n",
    "driver.execute_script(f\"arguments[0].setAttribute('value', '{current_minutes}')\", minute_field)  # Set the value of the minute field using JavaScript\n",
    "print('- Minute ... Done')  # Confirmation message for minute input\n",
    "\n",
    "# Click the \"Next\" button to proceed\n",
    "next_button = driver.find_element(By.XPATH, '//*[@id=\"mG61Hd\"]/div[2]/div/div[3]/div[1]/div[1]/div[2]')  \n",
    "next_button.click()  # Click the next button to submit the form\n",
    "print('- Clicked ... Done')  # Confirmation message for clicking the next button\n"
   ]
  },
  {
   "cell_type": "code",
   "execution_count": 31,
   "metadata": {},
   "outputs": [
    {
     "name": "stdout",
     "output_type": "stream",
     "text": [
      "- Q21 ... Done\n"
     ]
    }
   ],
   "source": [
    "# List of XPath selectors for the answers\n",
    "answers = [\n",
    "    \"/html/body/div/div[2]/form/div[2]/div/div[2]/div[3]/div/div/div[2]/div/div[1]/div/div[4]/span/div[2]/div/div\",  # Row 2 Column 1\n",
    "    \"/html/body/div/div[2]/form/div[2]/div/div[2]/div[3]/div/div/div[2]/div/div[1]/div/div[6]/span/div[3]/div/div\",  # Row 3 Column 2\n",
    "    \"/html/body/div/div[2]/form/div[2]/div/div[2]/div[3]/div/div/div[2]/div/div[1]/div/div[8]/span/div[4]/div/div\",  # Row 2 Column 3\n",
    "    \"/html/body/div/div[2]/form/div[2]/div/div[2]/div[3]/div/div/div[2]/div/div[1]/div/div[2]/span/div[5]/div/div\"   # Row 1 Column 4\n",
    "]\n",
    "\n",
    "# Loop through each XPath to click on the corresponding answer\n",
    "for i, answer in enumerate(answers, start=1):\n",
    "    wait.until(EC.element_to_be_clickable((By.XPATH, answer))).click()  # Wait until the element is clickable and then click\n",
    "    sleep(1)  # Pause for 1 second to allow the action to register and for any potential loading\n",
    "\n",
    "# Confirmation message indicating that all actions for question 21 have been completed\n",
    "print('- Q21 ... Done') \n"
   ]
  },
  {
   "cell_type": "code",
   "execution_count": 32,
   "metadata": {},
   "outputs": [
    {
     "name": "stdout",
     "output_type": "stream",
     "text": [
      "- Q22 ... Done\n"
     ]
    }
   ],
   "source": [
    "# Group 1: List of XPath selectors for checkboxes to be selected\n",
    "group_1 = [\n",
    "    \"/html/body/div/div[2]/form/div[2]/div/div[2]/div[4]/div/div/div[2]/div/div[1]/div/div[6]/label[2]/div/div\",  # c2 h3\n",
    "    \"/html/body/div/div[2]/form/div[2]/div/div[2]/div[4]/div/div/div[2]/div/div[1]/div/div[8]/label[2]/div/div\",  # c2 h4\n",
    "    \"/html/body/div/div[2]/form/div[2]/div/div[2]/div[4]/div/div/div[2]/div/div[1]/div/div[8]/label[1]/div/div\",  # c1 h4\n",
    "    \"/html/body/div/div[2]/form/div[2]/div/div[2]/div[4]/div/div/div[2]/div/div[1]/div/div[6]/label[1]/div/div\",  # c1 h3\n",
    "]\n",
    "\n",
    "# Group 2: List of XPath selectors for additional checkboxes to be selected\n",
    "group_2 = [\n",
    "    \"/html/body/div/div[2]/form/div[2]/div/div[2]/div[4]/div/div/div[2]/div/div[1]/div/div[4]/label[2]/div/div\",  # c2 h2\n",
    "    \"/html/body/div/div[2]/form/div[2]/div/div[2]/div[4]/div/div/div[2]/div/div[1]/div/div[2]/label[2]/div/div\",  # c2 h1\n",
    "    \"/html/body/div/div[2]/form/div[2]/div/div[2]/div[4]/div/div/div[2]/div/div[1]/div/div[6]/label[3]/div/div\",  # c3 h3\n",
    "    \"/html/body/div/div[2]/form/div[2]/div/div[2]/div[4]/div/div/div[2]/div/div[1]/div/div[8]/label[4]/div/div\",  # c4 h4\n",
    "]\n",
    "\n",
    "# Function to select checkboxes from a list of XPath selectors\n",
    "def select_cells(xpaths):\n",
    "    for xpath in xpaths:\n",
    "        checkbox = driver.find_element(By.XPATH, xpath)  # Find the checkbox element using its XPath\n",
    "        ActionChains(driver).move_to_element(checkbox).click(checkbox).perform()  # Move to the checkbox and click it\n",
    "        time.sleep(0.05)  # Pause for 0.05 seconds between each click to ensure responsiveness\n",
    "\n",
    "# Select checkboxes in Group 1\n",
    "select_cells(group_1)\n",
    "\n",
    "# Pause for 0.5 seconds before selecting checkboxes in Group 2\n",
    "time.sleep(0.5)\n",
    "\n",
    "# Select checkboxes in Group 2\n",
    "select_cells(group_2)\n",
    "\n",
    "# Confirmation message indicating that all actions for question 22 have been completed\n",
    "print('- Q22 ... Done') \n"
   ]
  },
  {
   "cell_type": "code",
   "execution_count": 33,
   "metadata": {},
   "outputs": [
    {
     "name": "stdout",
     "output_type": "stream",
     "text": [
      "- Submit ... Done\n"
     ]
    }
   ],
   "source": [
    "# Submit\n",
    "next_button = driver.find_element(By.XPATH, '/html/body/div[1]/div[2]/form/div[2]/div/div[3]/div[1]/div[1]/div[2]')  \n",
    "next_button.click()                        \n",
    "print('- Submit ... Done')  "
   ]
  }
 ],
 "metadata": {
  "kernelspec": {
   "display_name": "Python (crawl_python)",
   "language": "python",
   "name": "crawl_python"
  },
  "language_info": {
   "codemirror_mode": {
    "name": "ipython",
    "version": 3
   },
   "file_extension": ".py",
   "mimetype": "text/x-python",
   "name": "python",
   "nbconvert_exporter": "python",
   "pygments_lexer": "ipython3",
   "version": "3.10.11"
  }
 },
 "nbformat": 4,
 "nbformat_minor": 2
}
